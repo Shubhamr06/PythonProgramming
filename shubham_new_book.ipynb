{
 "cells": [
  {
   "cell_type": "markdown",
   "metadata": {},
   "source": [
    "##must do python\n"
   ]
  },
  {
   "cell_type": "code",
   "execution_count": 1,
   "metadata": {},
   "outputs": [
    {
     "data": {
      "text/plain": [
       "3"
      ]
     },
     "execution_count": 1,
     "metadata": {},
     "output_type": "execute_result"
    }
   ],
   "source": [
    "def add(a,b):\n",
    "    return a+b\n",
    "\n",
    "add(1,2)"
   ]
  },
  {
   "cell_type": "code",
   "execution_count": 6,
   "metadata": {},
   "outputs": [],
   "source": [
    "def max_of_two(a,b):\n",
    "    if a>b:\n",
    "        print(a)\n",
    "    else:\n",
    "        print(b)"
   ]
  },
  {
   "cell_type": "code",
   "execution_count": 8,
   "metadata": {},
   "outputs": [
    {
     "name": "stdout",
     "output_type": "stream",
     "text": [
      "2\n"
     ]
    }
   ],
   "source": [
    "max_of_two(1,2)"
   ]
  },
  {
   "cell_type": "code",
   "execution_count": 3,
   "metadata": {},
   "outputs": [],
   "source": [
    "def factorial(n):\n",
    "    if n < 0:\n",
    "        return 0\n",
    "    elif n == 0 or n == 1:\n",
    "        return 1\n",
    "    else:\n",
    "        fact = 1\n",
    "        while(n > 1):\n",
    "            fact =fact*n\n",
    "            n =n-1\n",
    "        return fact\n"
   ]
  },
  {
   "cell_type": "code",
   "execution_count": 4,
   "metadata": {},
   "outputs": [
    {
     "ename": "NameError",
     "evalue": "name 'fact' is not defined",
     "output_type": "error",
     "traceback": [
      "\u001b[1;31m---------------------------------------------------------------------------\u001b[0m",
      "\u001b[1;31mNameError\u001b[0m                                 Traceback (most recent call last)",
      "\u001b[1;32m<ipython-input-4-75a94f405aa8>\u001b[0m in \u001b[0;36m<module>\u001b[1;34m\u001b[0m\n\u001b[1;32m----> 1\u001b[1;33m \u001b[0mfact\u001b[0m\u001b[1;33m(\u001b[0m\u001b[1;36m0\u001b[0m\u001b[1;33m)\u001b[0m\u001b[1;33m\u001b[0m\u001b[1;33m\u001b[0m\u001b[0m\n\u001b[0m",
      "\u001b[1;31mNameError\u001b[0m: name 'fact' is not defined"
     ]
    }
   ],
   "source": [
    "fact(0)"
   ]
  },
  {
   "cell_type": "code",
   "execution_count": 38,
   "metadata": {},
   "outputs": [],
   "source": [
    "##fact=1 , a=5 > fact 5 ,a =4 , fact =20 , a =3 , fact =60 , a =2 , fact=120 , a =1 "
   ]
  },
  {
   "cell_type": "code",
   "execution_count": 63,
   "metadata": {},
   "outputs": [],
   "source": [
    "def simpleI():\n",
    "    p=int(input('enter p:'))\n",
    "    print(p)\n",
    "    r=float(input('enter r:'))\n",
    "    print(r)\n",
    "    t=int(input('enter t:'))\n",
    "    print(t)\n",
    "\n",
    "    \n",
    "    SI=(p*r*t)/100\n",
    "    print('the simple interest is :' ,SI)"
   ]
  },
  {
   "cell_type": "code",
   "execution_count": 64,
   "metadata": {},
   "outputs": [
    {
     "name": "stdout",
     "output_type": "stream",
     "text": [
      "enter p:200\n",
      "200\n",
      "enter r:10\n",
      "10.0\n",
      "enter t:2\n",
      "2\n",
      "the simple interest is : 40.0\n"
     ]
    }
   ],
   "source": [
    "simpleI()"
   ]
  },
  {
   "cell_type": "code",
   "execution_count": 65,
   "metadata": {},
   "outputs": [],
   "source": [
    "a='shubham'\n",
    "b=2\n",
    "c=3"
   ]
  },
  {
   "cell_type": "code",
   "execution_count": 66,
   "metadata": {},
   "outputs": [
    {
     "name": "stdout",
     "output_type": "stream",
     "text": [
      "shubham+2+3\n"
     ]
    }
   ],
   "source": [
    "print(\"{}+{}+{}\".format(a,b,c)) ##format sting"
   ]
  },
  {
   "cell_type": "code",
   "execution_count": 68,
   "metadata": {},
   "outputs": [
    {
     "name": "stdout",
     "output_type": "stream",
     "text": [
      "shubham&3\n"
     ]
    }
   ],
   "source": [
    "print(f\"{a}&{c}\") ###new method of foramt sting"
   ]
  },
  {
   "cell_type": "code",
   "execution_count": 7,
   "metadata": {},
   "outputs": [],
   "source": [
    "def compoundI():\n",
    "    p=int(input('enter principal amount'))\n",
    "    print(p)\n",
    "    r=float(input('enter rate of interest'))\n",
    "    print(r)\n",
    "    n=int(input('enter value of n'))\n",
    "    print(n)\n",
    "    t=int(input('enter value of t'))\n",
    "    print(t)\n",
    "    \n",
    "    a=p(1+r/n)\n",
    "    print(int(a))"
   ]
  },
  {
   "cell_type": "code",
   "execution_count": 8,
   "metadata": {},
   "outputs": [
    {
     "name": "stdout",
     "output_type": "stream",
     "text": [
      "enter principal amount3\n",
      "3\n",
      "enter rate of interest4\n",
      "4.0\n",
      "enter value of n5\n",
      "5\n",
      "enter value of t4\n",
      "4\n"
     ]
    },
    {
     "ename": "TypeError",
     "evalue": "'int' object is not callable",
     "output_type": "error",
     "traceback": [
      "\u001b[1;31m---------------------------------------------------------------------------\u001b[0m",
      "\u001b[1;31mTypeError\u001b[0m                                 Traceback (most recent call last)",
      "\u001b[1;32m<ipython-input-8-4c0807f67984>\u001b[0m in \u001b[0;36m<module>\u001b[1;34m\u001b[0m\n\u001b[1;32m----> 1\u001b[1;33m \u001b[0mcompoundI\u001b[0m\u001b[1;33m(\u001b[0m\u001b[1;33m)\u001b[0m\u001b[1;33m\u001b[0m\u001b[1;33m\u001b[0m\u001b[0m\n\u001b[0m",
      "\u001b[1;32m<ipython-input-7-40710344f576>\u001b[0m in \u001b[0;36mcompoundI\u001b[1;34m()\u001b[0m\n\u001b[0;32m      9\u001b[0m     \u001b[0mprint\u001b[0m\u001b[1;33m(\u001b[0m\u001b[0mt\u001b[0m\u001b[1;33m)\u001b[0m\u001b[1;33m\u001b[0m\u001b[1;33m\u001b[0m\u001b[0m\n\u001b[0;32m     10\u001b[0m \u001b[1;33m\u001b[0m\u001b[0m\n\u001b[1;32m---> 11\u001b[1;33m     \u001b[0ma\u001b[0m\u001b[1;33m=\u001b[0m\u001b[0mp\u001b[0m\u001b[1;33m(\u001b[0m\u001b[1;36m1\u001b[0m\u001b[1;33m+\u001b[0m\u001b[0mr\u001b[0m\u001b[1;33m/\u001b[0m\u001b[0mn\u001b[0m\u001b[1;33m)\u001b[0m\u001b[1;33m\u001b[0m\u001b[1;33m\u001b[0m\u001b[0m\n\u001b[0m\u001b[0;32m     12\u001b[0m     \u001b[0mprint\u001b[0m\u001b[1;33m(\u001b[0m\u001b[0mint\u001b[0m\u001b[1;33m(\u001b[0m\u001b[0ma\u001b[0m\u001b[1;33m)\u001b[0m\u001b[1;33m)\u001b[0m\u001b[1;33m\u001b[0m\u001b[1;33m\u001b[0m\u001b[0m\n",
      "\u001b[1;31mTypeError\u001b[0m: 'int' object is not callable"
     ]
    }
   ],
   "source": [
    "compoundI()"
   ]
  },
  {
   "cell_type": "code",
   "execution_count": 11,
   "metadata": {},
   "outputs": [],
   "source": [
    "def areac():\n",
    "    pi=3.14\n",
    "    r=float(input('enter radius'))\n",
    "    area=pi*r*r\n",
    "    return area"
   ]
  },
  {
   "cell_type": "code",
   "execution_count": 13,
   "metadata": {},
   "outputs": [
    {
     "name": "stdout",
     "output_type": "stream",
     "text": [
      "enter radius3\n"
     ]
    },
    {
     "data": {
      "text/plain": [
       "28.259999999999998"
      ]
     },
     "execution_count": 13,
     "metadata": {},
     "output_type": "execute_result"
    }
   ],
   "source": [
    "areac()"
   ]
  },
  {
   "cell_type": "markdown",
   "metadata": {},
   "source": [
    "##Python program to find prime no in an interval"
   ]
  },
  {
   "cell_type": "code",
   "execution_count": 39,
   "metadata": {},
   "outputs": [],
   "source": [
    "def primeno():\n",
    "    lower=int(input('please enter first value'))\n",
    "    upper=int(input('please enter second value'))\n",
    "    ##becuase +1 will include last value also\n",
    "    for num in range(lower,upper+1):\n",
    "        if num>1:\n",
    "            for i in range(2,num):\n",
    "                if(num%i)==0:\n",
    "                    break\n",
    "            else:\n",
    "                print(num)\n",
    "        \n",
    "        \n",
    "        \n",
    "                "
   ]
  },
  {
   "cell_type": "code",
   "execution_count": 40,
   "metadata": {},
   "outputs": [
    {
     "name": "stdout",
     "output_type": "stream",
     "text": [
      "please enter first value1\n",
      "please enter second value10\n",
      "2\n",
      "3\n",
      "5\n",
      "7\n"
     ]
    }
   ],
   "source": [
    "primeno()"
   ]
  },
  {
   "cell_type": "code",
   "execution_count": 51,
   "metadata": {},
   "outputs": [],
   "source": [
    "#check given no is prime or not:\n",
    "def checkprime():\n",
    "    n=int(input('enter no to check prime no'))\n",
    "    if n>1:\n",
    "        for i in range(2,int((n/2)+1)):\n",
    "            if(n%i)==0:\n",
    "                print('not prime no')\n",
    "                break\n",
    "        else:\n",
    "            print('prime no')\n",
    "    else:\n",
    "        print('not prime no')"
   ]
  },
  {
   "cell_type": "code",
   "execution_count": 52,
   "metadata": {},
   "outputs": [
    {
     "name": "stdout",
     "output_type": "stream",
     "text": [
      "enter no to check prime no6\n",
      "not prime no\n"
     ]
    }
   ],
   "source": [
    "checkprime()"
   ]
  },
  {
   "cell_type": "code",
   "execution_count": 1,
   "metadata": {},
   "outputs": [
    {
     "data": {
      "text/plain": [
       "(1, 2, 3, 4, 5, 6)"
      ]
     },
     "execution_count": 1,
     "metadata": {},
     "output_type": "execute_result"
    }
   ],
   "source": [
    "1,2,3,4,5,6,"
   ]
  },
  {
   "cell_type": "code",
   "execution_count": 19,
   "metadata": {},
   "outputs": [],
   "source": [
    "def table(n):\n",
    "    a=1\n",
    "    while(a<11):\n",
    "        print(a*n)\n",
    "        a=a+1\n",
    "        "
   ]
  },
  {
   "cell_type": "code",
   "execution_count": 20,
   "metadata": {},
   "outputs": [
    {
     "name": "stdout",
     "output_type": "stream",
     "text": [
      "2\n",
      "4\n",
      "6\n",
      "8\n",
      "10\n",
      "12\n",
      "14\n",
      "16\n",
      "18\n",
      "20\n"
     ]
    }
   ],
   "source": [
    "table(2)"
   ]
  },
  {
   "cell_type": "markdown",
   "metadata": {},
   "source": [
    "#print fibonacci number\n",
    " -a\n"
   ]
  },
  {
   "cell_type": "code",
   "execution_count": 5,
   "metadata": {},
   "outputs": [],
   "source": [
    "def fib():\n",
    "    first=0\n",
    "    second=1\n",
    "    n=int(input('print value of n: '))\n",
    "    for i in range(n):\n",
    "        print(first)\n",
    "        temp=first\n",
    "        first=second\n",
    "        second=second+temp\n",
    "        \n",
    "    "
   ]
  },
  {
   "cell_type": "code",
   "execution_count": 6,
   "metadata": {},
   "outputs": [
    {
     "name": "stdout",
     "output_type": "stream",
     "text": [
      "print value of n: 5\n",
      "0\n",
      "1\n",
      "1\n",
      "2\n",
      "3\n"
     ]
    }
   ],
   "source": [
    "#0,1,1,2,3,5,8,13\n",
    "fib()"
   ]
  },
  {
   "cell_type": "code",
   "execution_count": 7,
   "metadata": {},
   "outputs": [],
   "source": [
    "#printing pattren.... "
   ]
  },
  {
   "cell_type": "code",
   "execution_count": 5,
   "metadata": {},
   "outputs": [],
   "source": [
    "def factorial(n):\n",
    "    if n < 0:\n",
    "        return 0\n",
    "    elif n == 0 or n == 1:\n",
    "        return 1\n",
    "    else:\n",
    "        fact = 1\n",
    "        while(n > 1):\n",
    "            fact =fact*n\n",
    "            n =n-1\n",
    "        return fact"
   ]
  },
  {
   "cell_type": "code",
   "execution_count": 6,
   "metadata": {},
   "outputs": [
    {
     "data": {
      "text/plain": [
       "1"
      ]
     },
     "execution_count": 6,
     "metadata": {},
     "output_type": "execute_result"
    }
   ],
   "source": [
    "factorial(0)"
   ]
  },
  {
   "cell_type": "code",
   "execution_count": 1,
   "metadata": {},
   "outputs": [],
   "source": [
    "def product():\n",
    "    n=int(input('enter a positive no: '))\n",
    "    digit =[int(x) for x in str(n)]\n",
    "    #print(digit)\n",
    "    product=1\n",
    "    for i in digit:\n",
    "        no=i\n",
    "        #print(i)\n",
    "        product=product*i\n",
    "    print('the products of no is : -->',product)"
   ]
  },
  {
   "cell_type": "code",
   "execution_count": 2,
   "metadata": {},
   "outputs": [
    {
     "name": "stdout",
     "output_type": "stream",
     "text": [
      "enter a positive no: 98\n",
      "the products of no is : --> 72\n"
     ]
    }
   ],
   "source": [
    "product()"
   ]
  },
  {
   "cell_type": "code",
   "execution_count": 24,
   "metadata": {},
   "outputs": [],
   "source": [
    "def palindrom():\n",
    "    n=int(input('enter no you want to check palindrome:/n'))\n",
    "    print(n)\n",
    "    digit=[int(x) for x in str(n)]\n",
    "    print(digit)\n",
    "    chk=digit[::-1]\n",
    "    print(chk)\n",
    "    chk2=[str(x) for x in chk]\n",
    "    print(chk2)\n",
    "    a_string=\"\".join(chk2)\n",
    "    print(a_string)\n",
    "    a_int=int(a_string)\n",
    "    print(a_int)\n",
    "    if a_int==n:\n",
    "        print('palindrome')\n",
    "    else:\n",
    "        print('not palindrome')"
   ]
  },
  {
   "cell_type": "code",
   "execution_count": 28,
   "metadata": {},
   "outputs": [
    {
     "name": "stdout",
     "output_type": "stream",
     "text": [
      "enter no you want to check palindrome:/n00000\n",
      "0\n",
      "[0]\n",
      "[0]\n",
      "['0']\n",
      "0\n",
      "0\n",
      "palindrome\n"
     ]
    }
   ],
   "source": [
    "palindrom()"
   ]
  },
  {
   "cell_type": "code",
   "execution_count": 9,
   "metadata": {},
   "outputs": [],
   "source": [
    "integers = [1, 2, 3]\n",
    "\n",
    "strings = [str(integer) for integer in integers]"
   ]
  },
  {
   "cell_type": "code",
   "execution_count": 10,
   "metadata": {},
   "outputs": [
    {
     "data": {
      "text/plain": [
       "['1', '2', '3']"
      ]
     },
     "execution_count": 10,
     "metadata": {},
     "output_type": "execute_result"
    }
   ],
   "source": [
    "strings"
   ]
  },
  {
   "cell_type": "code",
   "execution_count": 46,
   "metadata": {},
   "outputs": [],
   "source": [
    "def armstrong():\n",
    "    n=int(input('enter the value :'))\n",
    "    digit=[int(x) for x in str(n)]\n",
    "    order=len(digit)\n",
    "    #print(digit)\n",
    "    #print(order)\n",
    "    sum=0\n",
    "    for i in digit:\n",
    "        product=pow(i,order)\n",
    "        sum=sum+product\n",
    "        i+=i\n",
    "    if sum==n:\n",
    "        print(f\"{n} is armstrong no\")\n",
    "    else:\n",
    "        print(f\"{n} is not armstong no\")"
   ]
  },
  {
   "cell_type": "code",
   "execution_count": 47,
   "metadata": {},
   "outputs": [
    {
     "name": "stdout",
     "output_type": "stream",
     "text": [
      "enter the value :153\n",
      "153 is armstrong no\n"
     ]
    }
   ],
   "source": [
    "armstrong()"
   ]
  },
  {
   "cell_type": "markdown",
   "metadata": {},
   "source": [
    "#palindrom no"
   ]
  },
  {
   "cell_type": "code",
   "execution_count": 66,
   "metadata": {},
   "outputs": [],
   "source": [
    "def palindrome():\n",
    "    n=int(input('enter the no \\n'))\n",
    "    print(f\"{n} is the entered no . \\n\")\n",
    "    temp=n\n",
    "    reverse=0\n",
    "    while(n>0):\n",
    "        digit=n%10\n",
    "        reverse=reverse*10 + digit\n",
    "        n=n//10\n",
    "    print(f\"{reverse} , is the revesed no \\n\")\n",
    "    if temp==reverse:\n",
    "        print(f\"{temp} , is palindrome no \\n\")\n",
    "    else:\n",
    "        print(f\"{temp} ,is not a palindrome no \\n\")\n",
    "        \n",
    "        "
   ]
  },
  {
   "cell_type": "code",
   "execution_count": 67,
   "metadata": {},
   "outputs": [
    {
     "name": "stdout",
     "output_type": "stream",
     "text": [
      "enter the no \n",
      "121\n",
      "121 is the entered no . \n",
      "\n",
      "121 , is the revesed no \n",
      "\n",
      "121 , is palindrome no \n",
      "\n"
     ]
    }
   ],
   "source": [
    "palindrome()"
   ]
  },
  {
   "cell_type": "markdown",
   "metadata": {},
   "source": [
    "#123%10---->3\n",
    "#123*10=1230 +3 ---> 1233\n",
    "#123//10---12 # 3 got removed from the no, so next time loop will take 12 for reversing."
   ]
  },
  {
   "cell_type": "markdown",
   "metadata": {},
   "source": [
    "###palindrom strings"
   ]
  },
  {
   "cell_type": "code",
   "execution_count": 96,
   "metadata": {},
   "outputs": [],
   "source": [
    "def palstring():\n",
    "    string=input('enter string :\\n')\n",
    "    print(f\"{string} is the entered string \\n\")\n",
    "    tmp=string\n",
    "    reverse=\"\"\n",
    "    for i in string:\n",
    "        reverse=i+reverse\n",
    "        #print(reverse)\n",
    "    print(f\"{reverse} is the reversed string \\n\")\n",
    "    if reverse==tmp:\n",
    "        print(f\"{tmp} is palindrome string \\n\")\n",
    "    else:\n",
    "        print(f\"{tmp} is not palindrome string \\n\")\n",
    "    "
   ]
  },
  {
   "cell_type": "code",
   "execution_count": 98,
   "metadata": {},
   "outputs": [
    {
     "name": "stdout",
     "output_type": "stream",
     "text": [
      "enter string :\n",
      "BOY\n",
      "BOY is the entered string \n",
      "\n",
      "YOB is the reversed string \n",
      "\n",
      "BOY is not palindrome string \n",
      "\n"
     ]
    }
   ],
   "source": [
    "palstring()"
   ]
  },
  {
   "cell_type": "code",
   "execution_count": 76,
   "metadata": {},
   "outputs": [
    {
     "data": {
      "text/plain": [
       "'m'"
      ]
     },
     "execution_count": 76,
     "metadata": {},
     "output_type": "execute_result"
    }
   ],
   "source": [
    "\"\"+\"m\""
   ]
  },
  {
   "cell_type": "markdown",
   "metadata": {},
   "source": [
    "##sum of squares of first n natural no"
   ]
  },
  {
   "cell_type": "code",
   "execution_count": 134,
   "metadata": {},
   "outputs": [],
   "source": [
    "def sumsq():\n",
    "    n=int(input('enter no :\\n'))\n",
    "    sum=0\n",
    "    for i in range(1,n+1):\n",
    "        #print(i)\n",
    "        sum=sum+pow(i,2)\n",
    "        i=i+1\n",
    "    print(f\"{sum} is the sum of square of given number \\n\")\n",
    "        "
   ]
  },
  {
   "cell_type": "code",
   "execution_count": 135,
   "metadata": {},
   "outputs": [
    {
     "name": "stdout",
     "output_type": "stream",
     "text": [
      "enter no :\n",
      "4\n",
      "30 is the sum of square of given number \n",
      "\n"
     ]
    }
   ],
   "source": [
    "sumsq()"
   ]
  },
  {
   "cell_type": "code",
   "execution_count": 136,
   "metadata": {},
   "outputs": [],
   "source": [
    "def cubec():\n",
    "    n=int(input('enter no :\\n'))\n",
    "    sum=0\n",
    "    for i in range(1,n+1):\n",
    "        #print(i)\n",
    "        sum=sum+pow(i,3)\n",
    "        i=i+1\n",
    "    print(f\"{sum} is the sum of cube of given number \\n\")"
   ]
  },
  {
   "cell_type": "code",
   "execution_count": 137,
   "metadata": {},
   "outputs": [
    {
     "name": "stdout",
     "output_type": "stream",
     "text": [
      "enter no :\n",
      "4\n",
      "100 is the sum of cube of given number \n",
      "\n"
     ]
    }
   ],
   "source": [
    "cubec()"
   ]
  },
  {
   "cell_type": "code",
   "execution_count": 1,
   "metadata": {},
   "outputs": [
    {
     "name": "stdout",
     "output_type": "stream",
     "text": [
      "enter number123\n",
      "1\n",
      "2\n",
      "3\n"
     ]
    }
   ],
   "source": [
    "n=input('enter number')\n",
    "for i in (n):\n",
    "    print(i)"
   ]
  },
  {
   "cell_type": "markdown",
   "metadata": {},
   "source": [
    "# pattren program's"
   ]
  },
  {
   "cell_type": "code",
   "execution_count": 17,
   "metadata": {},
   "outputs": [
    {
     "name": "stdout",
     "output_type": "stream",
     "text": [
      "enter no5\n",
      "* \n",
      "* * \n",
      "* * * \n",
      "* * * * \n",
      "* * * * * \n"
     ]
    }
   ],
   "source": [
    "n=int(input('enter no'))\n",
    "for i in range(1,n+1):\n",
    "    for j in range(1,i+1):\n",
    "        print('*',end = \" \")\n",
    "    print() ##this print is only to go on next line here"
   ]
  },
  {
   "cell_type": "code",
   "execution_count": 20,
   "metadata": {},
   "outputs": [
    {
     "name": "stdout",
     "output_type": "stream",
     "text": [
      "3\n",
      "\n",
      "1\n",
      "2\n"
     ]
    }
   ],
   "source": [
    "a=1\n",
    "b=2\n",
    "c=a+b\n",
    "\n",
    "print(c)\n",
    "print()\n",
    "print(a)\n",
    "print(b)"
   ]
  },
  {
   "cell_type": "code",
   "execution_count": 6,
   "metadata": {
    "scrolled": true
   },
   "outputs": [
    {
     "name": "stdout",
     "output_type": "stream",
     "text": [
      "enter no4\n",
      "* \n",
      "* * \n",
      "* * * \n",
      "* * * * \n"
     ]
    }
   ],
   "source": [
    "n=int(input('enter no'))\n",
    "for i in range(1,n+1):\n",
    "    for j in range(1,i+1):\n",
    "        print('*',end = \" \")\n",
    "    print()"
   ]
  },
  {
   "cell_type": "code",
   "execution_count": 10,
   "metadata": {},
   "outputs": [
    {
     "ename": "IndexError",
     "evalue": "list index out of range",
     "output_type": "error",
     "traceback": [
      "\u001b[1;31m---------------------------------------------------------------------------\u001b[0m",
      "\u001b[1;31mIndexError\u001b[0m                                Traceback (most recent call last)",
      "\u001b[1;32m<ipython-input-10-b71f11bbce90>\u001b[0m in \u001b[0;36m<module>\u001b[1;34m\u001b[0m\n\u001b[0;32m     15\u001b[0m \u001b[0marr\u001b[0m \u001b[1;33m=\u001b[0m \u001b[1;33m[\u001b[0m\u001b[1;36m10\u001b[0m\u001b[1;33m,\u001b[0m \u001b[1;36m324\u001b[0m\u001b[1;33m,\u001b[0m \u001b[1;36m45\u001b[0m\u001b[1;33m,\u001b[0m \u001b[1;36m90\u001b[0m\u001b[1;33m,\u001b[0m \u001b[1;36m9808\u001b[0m\u001b[1;33m]\u001b[0m\u001b[1;33m\u001b[0m\u001b[1;33m\u001b[0m\u001b[0m\n\u001b[0;32m     16\u001b[0m \u001b[0mn\u001b[0m \u001b[1;33m=\u001b[0m \u001b[0mlen\u001b[0m\u001b[1;33m(\u001b[0m\u001b[0marr\u001b[0m\u001b[1;33m)\u001b[0m\u001b[1;33m\u001b[0m\u001b[1;33m\u001b[0m\u001b[0m\n\u001b[1;32m---> 17\u001b[1;33m \u001b[0mAns\u001b[0m \u001b[1;33m=\u001b[0m \u001b[0mlargest\u001b[0m\u001b[1;33m(\u001b[0m\u001b[0marr\u001b[0m\u001b[1;33m,\u001b[0m\u001b[0mn\u001b[0m\u001b[1;33m)\u001b[0m\u001b[1;33m\u001b[0m\u001b[1;33m\u001b[0m\u001b[0m\n\u001b[0m\u001b[0;32m     18\u001b[0m \u001b[0mprint\u001b[0m \u001b[1;33m(\u001b[0m\u001b[1;34m\"Largest in given array is\"\u001b[0m\u001b[1;33m,\u001b[0m\u001b[0mAns\u001b[0m\u001b[1;33m)\u001b[0m\u001b[1;33m\u001b[0m\u001b[1;33m\u001b[0m\u001b[0m\n",
      "\u001b[1;32m<ipython-input-10-b71f11bbce90>\u001b[0m in \u001b[0;36mlargest\u001b[1;34m(arr, n)\u001b[0m\n\u001b[0;32m      8\u001b[0m     \u001b[1;31m# current max\u001b[0m\u001b[1;33m\u001b[0m\u001b[1;33m\u001b[0m\u001b[1;33m\u001b[0m\u001b[0m\n\u001b[0;32m      9\u001b[0m     \u001b[1;32mfor\u001b[0m \u001b[0mi\u001b[0m \u001b[1;32min\u001b[0m \u001b[0mrange\u001b[0m\u001b[1;33m(\u001b[0m\u001b[1;36m1\u001b[0m\u001b[1;33m,\u001b[0m \u001b[0mn\u001b[0m\u001b[1;33m+\u001b[0m\u001b[1;36m1\u001b[0m\u001b[1;33m)\u001b[0m\u001b[1;33m:\u001b[0m\u001b[1;33m\u001b[0m\u001b[1;33m\u001b[0m\u001b[0m\n\u001b[1;32m---> 10\u001b[1;33m         \u001b[1;32mif\u001b[0m \u001b[0marr\u001b[0m\u001b[1;33m[\u001b[0m\u001b[0mi\u001b[0m\u001b[1;33m]\u001b[0m \u001b[1;33m>\u001b[0m \u001b[0mmax\u001b[0m\u001b[1;33m:\u001b[0m\u001b[1;33m\u001b[0m\u001b[1;33m\u001b[0m\u001b[0m\n\u001b[0m\u001b[0;32m     11\u001b[0m             \u001b[0mmax\u001b[0m \u001b[1;33m=\u001b[0m \u001b[0marr\u001b[0m\u001b[1;33m[\u001b[0m\u001b[0mi\u001b[0m\u001b[1;33m]\u001b[0m\u001b[1;33m\u001b[0m\u001b[1;33m\u001b[0m\u001b[0m\n\u001b[0;32m     12\u001b[0m     \u001b[1;32mreturn\u001b[0m \u001b[0mmax\u001b[0m\u001b[1;33m\u001b[0m\u001b[1;33m\u001b[0m\u001b[0m\n",
      "\u001b[1;31mIndexError\u001b[0m: list index out of range"
     ]
    }
   ],
   "source": [
    "def largest(arr,n):\n",
    "  \n",
    "    # Initialize maximum element\n",
    "    max = arr[0]\n",
    "  \n",
    "    # Traverse array elements from second\n",
    "    # and compare every element with \n",
    "    # current max\n",
    "    for i in range(1, n+1):\n",
    "        if arr[i] > max:\n",
    "            max = arr[i]\n",
    "    return max\n",
    "  \n",
    "# Driver Code\n",
    "arr = [10, 324, 45, 90, 9808]\n",
    "n = len(arr)\n",
    "Ans = largest(arr,n)\n",
    "print (\"Largest in given array is\",Ans)"
   ]
  },
  {
   "cell_type": "code",
   "execution_count": 15,
   "metadata": {},
   "outputs": [
    {
     "name": "stdout",
     "output_type": "stream",
     "text": [
      "240 is the largest element in [1, 240, 56, 67, 34]\n"
     ]
    }
   ],
   "source": [
    "arr=[1,240,56,67,34]\n",
    "n=len(arr)\n",
    "#print(n)\n",
    "max=arr[0]\n",
    "for i in range(1,n):\n",
    "    #print(i)\n",
    "    if arr[i]>max:\n",
    "        max=arr[i]\n",
    "print(f\"{max} is the largest element in {arr}\")"
   ]
  },
  {
   "cell_type": "code",
   "execution_count": 5,
   "metadata": {},
   "outputs": [
    {
     "name": "stdout",
     "output_type": "stream",
     "text": [
      "2 is the smallest element in [2, 240, 56, 67, 34]\n"
     ]
    }
   ],
   "source": [
    "arr=[2,240,56,67,34]\n",
    "n=len(arr)\n",
    "#print(n)\n",
    "min=arr[0]\n",
    "for i in range(1,n):\n",
    "    #print(i)\n",
    "    if arr[i]<min:\n",
    "        min=arr[i]\n",
    "print(f\"{min} is the smallest element in {arr}\")"
   ]
  },
  {
   "cell_type": "markdown",
   "metadata": {},
   "source": [
    "# here we are traversing it through length of the arr , and after that indexing it by one by one."
   ]
  },
  {
   "cell_type": "code",
   "execution_count": 7,
   "metadata": {},
   "outputs": [],
   "source": [
    "def max_arr(arr):\n",
    "    lst=[]\n",
    "    n=int(input('enter no of elements to be enter in list'))\n",
    "    for i in range(0,n):\n",
    "        ele=int(input())\n",
    "    lst=lst.append(ele)\n",
    "    print(lst)"
   ]
  },
  {
   "cell_type": "markdown",
   "metadata": {},
   "source": [
    "# method for entering elements in a list"
   ]
  },
  {
   "cell_type": "code",
   "execution_count": 11,
   "metadata": {},
   "outputs": [
    {
     "name": "stdout",
     "output_type": "stream",
     "text": [
      "Enter number of elements : 2\n",
      "2\n",
      "2\n",
      "[2, 2]\n"
     ]
    }
   ],
   "source": [
    "\n",
    "# creating an empty list\n",
    "lst = []\n",
    " \n",
    "# number of elements as input\n",
    "n = int(input(\"Enter number of elements : \"))\n",
    " \n",
    "# iterating till the range\n",
    "for i in range(0, n):\n",
    "    ele = int(input())\n",
    " \n",
    "    lst.append(ele) # adding the element\n",
    "     \n",
    "print(lst)"
   ]
  },
  {
   "cell_type": "markdown",
   "metadata": {},
   "source": [
    "def arr_rotate():\n",
    "lst=[]\n",
    "n=int(input"
   ]
  },
  {
   "cell_type": "code",
   "execution_count": 16,
   "metadata": {},
   "outputs": [],
   "source": [
    "def arr_rotate():\n",
    "    lst=[]\n",
    "    n=int(input('enter the no of elements'))\n",
    "    for i in range(0, n):\n",
    "        ele=int(input())\n",
    "        lst.append(ele)\n",
    "    n_max=max(lst)\n",
    "    print(n_max)\n",
    "    roatated=lst[::-1]\n",
    "    print('the rotated array is ',roatated)"
   ]
  },
  {
   "cell_type": "code",
   "execution_count": 17,
   "metadata": {},
   "outputs": [
    {
     "name": "stdout",
     "output_type": "stream",
     "text": [
      "enter the no of elements3\n",
      "1\n",
      "2\n",
      "3\n",
      "3\n",
      "the rotated array is  [3, 2, 1]\n"
     ]
    }
   ],
   "source": [
    "arr_rotate()"
   ]
  },
  {
   "cell_type": "code",
   "execution_count": 21,
   "metadata": {},
   "outputs": [
    {
     "name": "stdout",
     "output_type": "stream",
     "text": [
      "5\n",
      "5\n",
      "[5, 2, 3, 4, 1]\n"
     ]
    }
   ],
   "source": [
    "lst=[1,2,3,4,5]\n",
    "n=len(lst)\n",
    "tmp=0\n",
    "tmp=lst[0]\n",
    "lst[0]=lst[n-1]\n",
    "lst[n-1]=tmp\n",
    "print(lst)"
   ]
  },
  {
   "cell_type": "markdown",
   "metadata": {},
   "source": [
    "# finding length of list using naive method (basic) but best way to find length is use len() function."
   ]
  },
  {
   "cell_type": "code",
   "execution_count": 26,
   "metadata": {},
   "outputs": [
    {
     "name": "stdout",
     "output_type": "stream",
     "text": [
      "4\n",
      "not exist\n"
     ]
    }
   ],
   "source": [
    "lst=[1,2,3,4]\n",
    "counter=0\n",
    "for i in lst:\n",
    "    counter=counter+1\n",
    "print(counter)\n",
    "if 5 in lst:\n",
    "    print('elment exist')\n",
    "else:\n",
    "    print('not exist')"
   ]
  },
  {
   "cell_type": "code",
   "execution_count": 37,
   "metadata": {},
   "outputs": [],
   "source": [
    "def sec_large():\n",
    "    arr=[2,3,4,2,5,1]\n",
    "    n=len(arr)\n",
    "    arr.sort()\n",
    "    print(arr)\n",
    "    print(arr[n-2])"
   ]
  },
  {
   "cell_type": "code",
   "execution_count": 38,
   "metadata": {},
   "outputs": [
    {
     "name": "stdout",
     "output_type": "stream",
     "text": [
      "[1, 2, 2, 3, 4, 5]\n",
      "4\n"
     ]
    }
   ],
   "source": [
    "sec_large()"
   ]
  },
  {
   "cell_type": "code",
   "execution_count": 8,
   "metadata": {},
   "outputs": [
    {
     "name": "stdout",
     "output_type": "stream",
     "text": [
      "[2, 2, 4]\n"
     ]
    }
   ],
   "source": [
    "lst=[1, 2, 2, 3, 4, 5]\n",
    "lst1=[]\n",
    "for i in lst:\n",
    "    if i%2==0:\n",
    "        #print(i)\n",
    "        lst1.append(i)\n",
    "print(lst1)"
   ]
  },
  {
   "cell_type": "code",
   "execution_count": 9,
   "metadata": {},
   "outputs": [
    {
     "name": "stdout",
     "output_type": "stream",
     "text": [
      "[2, 2, 4]\n"
     ]
    }
   ],
   "source": [
    "lst=[1, 2, 2, 3, 4, 5]\n",
    "even_nos=[num for num in lst if num%2==0] ##this is list comrehension\n",
    "print(even_nos)"
   ]
  },
  {
   "cell_type": "code",
   "execution_count": 10,
   "metadata": {},
   "outputs": [
    {
     "name": "stdout",
     "output_type": "stream",
     "text": [
      "please enter range100\n",
      "[2, 4, 6, 8, 10, 12, 14, 16, 18, 20, 22, 24, 26, 28, 30, 32, 34, 36, 38, 40, 42, 44, 46, 48, 50, 52, 54, 56, 58, 60, 62, 64, 66, 68, 70, 72, 74, 76, 78, 80, 82, 84, 86, 88, 90, 92, 94, 96, 98, 100]\n"
     ]
    }
   ],
   "source": [
    "n=int(input('please enter range'))\n",
    "even_nos=[num for num in range(1,n+1) if num%2==0]\n",
    "print(even_nos) ##printing even nos in a given range"
   ]
  },
  {
   "cell_type": "code",
   "execution_count": 11,
   "metadata": {},
   "outputs": [
    {
     "name": "stdout",
     "output_type": "stream",
     "text": [
      "[-1, -2]\n"
     ]
    }
   ],
   "source": [
    "lst=[-1,-2,3,4,5,6]\n",
    "neg_no=[num for num in lst if num<0]\n",
    "print(neg_no)"
   ]
  },
  {
   "cell_type": "code",
   "execution_count": 22,
   "metadata": {},
   "outputs": [
    {
     "name": "stdout",
     "output_type": "stream",
     "text": [
      "New list after removing unwanted numbers:  [17, 18, 23, 50]\n"
     ]
    }
   ],
   "source": [
    "\n",
    "# Python program to remove multiple\n",
    "# elements from a list\n",
    " \n",
    "# creating a list\n",
    "list1 = [11, 5, 17, 18, 23, 50]\n",
    " \n",
    "# items to be removed\n",
    "unwanted_num = [11, 5]\n",
    " \n",
    "list1 = [ele for ele in list1 if ele not in unwanted_num]\n",
    " \n",
    "# printing modified list\n",
    "print(\"New list after removing unwanted numbers: \", list1)"
   ]
  },
  {
   "cell_type": "code",
   "execution_count": 25,
   "metadata": {},
   "outputs": [
    {
     "name": "stdout",
     "output_type": "stream",
     "text": [
      "[11, 5, 17, 18, 23, 50]\n",
      "[11, 5, 17, 18, 23, 50]\n",
      "[11, 5, 17, 18, 23, 50]\n"
     ]
    }
   ],
   "source": [
    "list1 = [11, 5, 17, 18, 23, 50]\n",
    "list2=list1[:]\n",
    "list3=[]\n",
    "print(list1)\n",
    "print(list2)\n",
    "list3.extend(list2)\n",
    "print(list3)"
   ]
  },
  {
   "cell_type": "code",
   "execution_count": 28,
   "metadata": {},
   "outputs": [
    {
     "name": "stdout",
     "output_type": "stream",
     "text": [
      "2\n",
      "2\n"
     ]
    }
   ],
   "source": [
    "list1 = [11, 5, 17, 18, 23, 50,50]\n",
    "counter=0\n",
    "for i in list1:\n",
    "    if i==50:\n",
    "        counter=counter+1\n",
    "print(counter)\n",
    "l2=list1.count(50)\n",
    "print(l2)"
   ]
  },
  {
   "cell_type": "code",
   "execution_count": 30,
   "metadata": {},
   "outputs": [
    {
     "ename": "SyntaxError",
     "evalue": "invalid syntax (<ipython-input-30-67f350acb08d>, line 3)",
     "output_type": "error",
     "traceback": [
      "\u001b[1;36m  File \u001b[1;32m\"<ipython-input-30-67f350acb08d>\"\u001b[1;36m, line \u001b[1;32m3\u001b[0m\n\u001b[1;33m    newlist=[num for num in list1 if num.count(50)>1 newlist.append()]\u001b[0m\n\u001b[1;37m                                                     ^\u001b[0m\n\u001b[1;31mSyntaxError\u001b[0m\u001b[1;31m:\u001b[0m invalid syntax\n"
     ]
    }
   ],
   "source": [
    "list1 = [11, 5, 17, 18, 23, 50,50]\n",
    "\n",
    "newlist=[num for num in list1 if num.count(50)>1 newlist.append()]"
   ]
  },
  {
   "cell_type": "code",
   "execution_count": 31,
   "metadata": {},
   "outputs": [],
   "source": [
    "data=[11, 5, 17, 18, 23, 50,50]\n",
    "def dup_list(duplist):\n",
    "    duplicatelist=[]\n",
    "    for i in duplist:\n",
    "        if i not in duplicatelist:\n",
    "            duplicatelist.append(i)\n",
    "    print(duplicatelist) ##way of removing duplicate by using not in methond\n",
    "    \n",
    "        "
   ]
  },
  {
   "cell_type": "code",
   "execution_count": 32,
   "metadata": {},
   "outputs": [
    {
     "name": "stdout",
     "output_type": "stream",
     "text": [
      "[11, 5, 17, 18, 23, 50]\n"
     ]
    }
   ],
   "source": [
    "dup_list(data)"
   ]
  },
  {
   "cell_type": "code",
   "execution_count": 34,
   "metadata": {},
   "outputs": [
    {
     "name": "stdout",
     "output_type": "stream",
     "text": [
      "{5, 11, 17, 18, 50, 23}\n",
      "[5, 11, 17, 18, 50, 23]\n"
     ]
    }
   ],
   "source": [
    "data=[11, 5, 17, 18, 23, 50,50]\n",
    "list1=set(data)\n",
    "print(list1)\n",
    "list2=list(list1)\n",
    "print(list2) ## set way of removing duplicate"
   ]
  },
  {
   "cell_type": "markdown",
   "metadata": {},
   "source": [
    "# Write a function rotate(ar[], d, n) that rotates arr[] of size n by d elements.\n"
   ]
  },
  {
   "cell_type": "code",
   "execution_count": 36,
   "metadata": {},
   "outputs": [
    {
     "name": "stdout",
     "output_type": "stream",
     "text": [
      "[3, 4, 5, 1, 2]\n"
     ]
    }
   ],
   "source": [
    "arr=[1,2,3,4,5]\n",
    "b=[]\n",
    "c=[]\n",
    "for i in range(len(arr)):\n",
    "    if i==0 or i==1:\n",
    "        b.append(arr[i])\n",
    "    else:\n",
    "        c.append(arr[i])\n",
    "c=c+b\n",
    "print(c)"
   ]
  },
  {
   "cell_type": "code",
   "execution_count": 12,
   "metadata": {},
   "outputs": [
    {
     "name": "stdout",
     "output_type": "stream",
     "text": [
      "shubham\n",
      "aman\n"
     ]
    }
   ],
   "source": [
    "class Employee: #Employee is a class\n",
    "    pass # pass will do skip \n",
    "\n",
    "emp1=Employee() #class employee instance is emp1 and emp2\n",
    "emp2=Employee()\n",
    "\n",
    "emp1.first='shubham' #first , last and pay called instance variable \n",
    "emp1.last='rai'\n",
    "emp1.pay=5000\n",
    "\n",
    "emp2.first='aman'\n",
    "emp2.last='kumar'\n",
    "emp2.pay=6000\n",
    "\n",
    "print(emp1.first) \n",
    "print(emp2.first)\n",
    "\n",
    "##so here are lot of code used and which is also prone to error , and also there is not making sense of using class...\n",
    "##hence here we can use special (init method) which can act as a consutructor or instance of a class... \n",
    "## check below |||"
   ]
  },
  {
   "cell_type": "code",
   "execution_count": 24,
   "metadata": {
    "scrolled": true
   },
   "outputs": [
    {
     "name": "stdout",
     "output_type": "stream",
     "text": [
      "shubham.rai@company\n",
      "rai\n",
      "shubham  rai\n",
      "5000\n",
      "5200\n",
      "shubham  rai\n",
      "2\n"
     ]
    }
   ],
   "source": [
    "class Employee:\n",
    "    nos_of_employee=0\n",
    "    raise_amount=1.04\n",
    "    \n",
    "    def __init__(self,first,last,pay):\n",
    "        self.first=first\n",
    "        self.last=last\n",
    "        self.pay=pay\n",
    "        self.email=self.first + '.'+ self.last + '@company'\n",
    "        \n",
    "        Employee.nos_of_employee+=1 ### it will increment becuase , emp1 ,emp2 will call the init method \n",
    "        \n",
    "    def fullname(self):\n",
    "        print(f\"{self.first}  {self.last}\")\n",
    "    \n",
    "    def pay_raise(self):\n",
    "        self.pay=int(self.pay * self.raise_amount) ## in place of hardcode value we can use class variable \n",
    "    ## we can also use Employee.raise_amount or self.raise_amount (which is the instance of the class)\n",
    "\n",
    "#this is a method , we need to pass self here becuase it will act as instance of class and also self will work with all instances   \n",
    "\n",
    "emp1=Employee('shubham','rai',5000) \n",
    "emp2=Employee('aman','tcs',6000) \n",
    "print(emp1.email)\n",
    "print(emp1.last)\n",
    "#print(emp1.fullname())\n",
    "\n",
    "##for example why we took self in a method look down in pring statementsss\n",
    "#print(Employee.fullname(emp1)) # calling method from class and pass emp1 which is act as self...\n",
    "#print(emp1.fullname())\n",
    "emp1.fullname()\n",
    "print(emp1.pay)\n",
    "emp1.pay_raise()\n",
    "print(emp1.pay)\n",
    "Employee.raise_amount\n",
    "Employee.fullname(emp1)\n",
    "print(Employee.nos_of_employee)\n",
    "\n",
    " # here emp1 will call __init__ method and it run automatically and pass emp1 as self like emp1.first as in earlier program "
   ]
  },
  {
   "cell_type": "code",
   "execution_count": 10,
   "metadata": {},
   "outputs": [
    {
     "name": "stdout",
     "output_type": "stream",
     "text": [
      "<class '__main__.Employee'>\n",
      "<__main__.Employee object at 0x000001D476E8E100>\n",
      "<__main__.Employee object at 0x000001D476E8E850>\n"
     ]
    }
   ],
   "source": [
    "print(type(Employee()))\n",
    "print(emp1)\n",
    "print(emp2)"
   ]
  },
  {
   "cell_type": "markdown",
   "metadata": {},
   "source": [
    "#  Diffrence between class and instance of a class\n",
    "- "
   ]
  },
  {
   "cell_type": "code",
   "execution_count": 5,
   "metadata": {},
   "outputs": [],
   "source": [
    "## instance variable and class variable diffrences."
   ]
  },
  {
   "cell_type": "code",
   "execution_count": 11,
   "metadata": {},
   "outputs": [
    {
     "name": "stdout",
     "output_type": "stream",
     "text": [
      "5000\n"
     ]
    },
    {
     "data": {
      "text/plain": [
       "5000"
      ]
     },
     "execution_count": 11,
     "metadata": {},
     "output_type": "execute_result"
    }
   ],
   "source": [
    " class Employee:\n",
    "    def __init__(self,first,last,pay):\n",
    "        self.first=first\n",
    "        self.last=last\n",
    "        self.pay=pay\n",
    "        self.email=self.first + '.'+ self.last + '@company'\n",
    "        \n",
    "    def fullname(self):\n",
    "        print(f\"{self.first}  {self.last}\")\n",
    "        \n",
    "    def pay_raise(self):\n",
    "        self.pay=int(self.pay*1.04)\n",
    "\n",
    "print(emp1.pay)\n"
   ]
  },
  {
   "cell_type": "code",
   "execution_count": null,
   "metadata": {},
   "outputs": [],
   "source": []
  }
 ],
 "metadata": {
  "kernelspec": {
   "display_name": "Python 3",
   "language": "python",
   "name": "python3"
  },
  "language_info": {
   "codemirror_mode": {
    "name": "ipython",
    "version": 3
   },
   "file_extension": ".py",
   "mimetype": "text/x-python",
   "name": "python",
   "nbconvert_exporter": "python",
   "pygments_lexer": "ipython3",
   "version": "3.8.5"
  }
 },
 "nbformat": 4,
 "nbformat_minor": 4
}
